{
 "cells": [
  {
   "cell_type": "markdown",
   "metadata": {},
   "source": [
    "# **ANOVA Test**\n",
    "> ANOVA is a statistical test that stands for analysis of variance.\n",
    "\n",
    "- ANOVA was developed by statistician and evolutionary biologist Ronald Fisher. The idea behind ANOVA is to compare different groups of samples to determine whether there is a significant difference between the groups.\n",
    "- ANOVA is an extension of the t and the z test and was developed to compare more than two groups.\n",
    "- The null hypothesis of ANOVA is that there is no difference between the groups. The alternative hypothesis is that there is a difference between the groups.\n",
    "- ANOVA is an omnibus test, meaning it tests the data as a whole. In other words, it does not tell you which specific groups were significantly different from each other; it only tells you that at least two groups were different.\n",
    "\n",
    "### **Types of ANOVA:**\n",
    "There are three main types of ANOVA:\n",
    "1. One-way ANOVA\n",
    "2. Two-way ANOVA\n",
    "3. N-way ANOVA\n",
    "\n",
    "#### **1. One-way ANOVA:**\n",
    "- One-way ANOVA is used to compare two or more groups of samples across one continuous independent variable.\n",
    "- For example, you could use a one-way ANOVA to compare the height of people living in different cities.\n",
    "\n",
    "#### **2. Two-way ANOVA:**\n",
    "- Two-way ANOVA is used to compare two or more groups of samples across two independent variables.\n",
    "- For example, you could use a two-way ANOVA to compare the height of people living in different cities and different countries.\n",
    "\n",
    "#### **3. N-way ANOVA:**\n",
    "- N-way ANOVA is used to compare two or more groups of samples across N independent variables.\n",
    "\n",
    "### **Assumptions of ANOVA:**\n",
    "\n",
    "- ANOVA has three main assumptions:\n",
    "1. The samples are independent.\n",
    "2. The samples are normally distributed.\n",
    "3. The variance of each group is equal.\n",
    "\n",
    "If these assumptions are not met, you may not be able to trust the results of your ANOVA."
   ]
  },
  {
   "cell_type": "markdown",
   "metadata": {},
   "source": [
    "## **1. ONE-WAY ANOVA**"
   ]
  },
  {
   "cell_type": "markdown",
   "metadata": {},
   "source": [
    "### **1.1 One-Way ANOVA (Sample Data 1):**"
   ]
  },
  {
   "cell_type": "code",
   "execution_count": 1,
   "metadata": {},
   "outputs": [
    {
     "name": "stdout",
     "output_type": "stream",
     "text": [
      "p-value: 4.279979561060641e-13, Means are not equal (reject H0)\n"
     ]
    }
   ],
   "source": [
    "import scipy.stats as stats\n",
    "\n",
    "# Sample data\n",
    "\n",
    "a = [2.3, 3.4, 4.5, 2.3, 3.4]\n",
    "b = [11.2, 12.2, 13.2, 12.2, 12.3]\n",
    "c = [22.3, 23.4, 24.5, 22.3, 23.4]\n",
    "\n",
    "# perform one-way ANOVA\n",
    "f_stat, p_val = stats.f_oneway(a, b, c)\n",
    "\n",
    "# print the results base on if else conditions\n",
    "if p_val > 0.05:\n",
    "    print(f'p-value: {p_val}, Means are equal (fail to reject H0)')\n",
    "else:\n",
    "    print(f'p-value: {p_val}, Means are not equal (reject H0)')"
   ]
  },
  {
   "cell_type": "markdown",
   "metadata": {},
   "source": [
    "The above code is performing a one-way ANOVA (Analysis of Variance) on three groups of data to test if their means are equal. Here's a step-by-step explanation:\n",
    "\n",
    "1. Import the `scipy.stats` module, which contains statistical functions.\n",
    "2. Define three groups of data, `a`, `b`, and `c`.\n",
    "3. Use the `f_oneway()` function from `scipy.stats` to perform a one-way ANOVA on the three groups. This function returns two values: the F statistic (`f_stat`) and the p-value (`p_val`).\n",
    "4. Based on the p-value, make a decision about the null hypothesis. If the p-value is greater than 0.05, we fail to reject the null hypothesis and conclude that the means are equal. If the p-value is less than or equal to 0.05, we reject the null hypothesis and conclude that the means are not equal.\n",
    "\n",
    "**Observations from the output:**\n",
    "\n",
    "- The output shows that the `p-value` is approximately `4.28e-13`, which is significantly `less than 0.05`. \n",
    "- Therefore, we `reject the null hypothesis`. \n",
    "- This suggests that at least one group mean is statistically different from the others according to the one-way ANOVA."
   ]
  },
  {
   "cell_type": "markdown",
   "metadata": {},
   "source": [
    "### **1.2 One-Way ANOVA (Sample Data 2):**"
   ]
  },
  {
   "cell_type": "code",
   "execution_count": 5,
   "metadata": {},
   "outputs": [
    {
     "name": "stdout",
     "output_type": "stream",
     "text": [
      "F-statistic: 15.662162162162158\n",
      "p-value: 0.0004515404760997283\n",
      "Reject null hypothesis: The means are not equal, as the p-value: {p_val} is less than 0.05\n"
     ]
    }
   ],
   "source": [
    "import scipy.stats as stats\n",
    "\n",
    "# Sample data: Growth of plants with three types of fertilizers\n",
    "fertilizer1 = [20, 22, 19, 24, 25]\n",
    "fertilizer2 = [28, 30, 27, 26, 29]\n",
    "fertilizer3 = [18, 20, 22, 19, 24]\n",
    "\n",
    "# Perform the one-way ANOVA\n",
    "f_stat, p_val = stats.f_oneway(fertilizer1, fertilizer2, fertilizer3)\n",
    "\n",
    "print(\"F-statistic:\", f_stat)\n",
    "print(\"p-value:\", p_val)\n",
    "\n",
    "# print the results based on if the p-value is less than 0.05\n",
    "\n",
    "if p_val < 0.05:\n",
    "    print(\"Reject null hypothesis: The means are not equal, as the p-value: {p_val} is less than 0.05\")\n",
    "else:\n",
    "    print(\"Accept null hypothesis: The means are equal, as the p-value: {p_val} is greater than 0.05\")"
   ]
  },
  {
   "cell_type": "markdown",
   "metadata": {},
   "source": [
    "The above code is performing a one-way ANOVA (Analysis of Variance) test on the growth of plants with three different types of fertilizers. Here's a step-by-step explanation:\n",
    "\n",
    "1. Import the necessary library: scipy.stats.\n",
    "2. Define the sample data for the growth of plants with three types of fertilizers.\n",
    "3. Perform the one-way ANOVA using `f_oneway()` function from scipy.stats. This function returns two values: the F-statistic and the p-value.\n",
    "4. Print the F-statistic and the p-value.\n",
    "5. Based on the p-value, a decision is made about the null hypothesis. If the p-value is less than 0.05, we reject the null hypothesis and conclude that at least one of the means of the plant growth for the three fertilizers is different. If the p-value is greater than or equal to 0.05, we fail to reject the null hypothesis and conclude that all the means are equal.\n",
    "\n",
    "**Observations from the output:**\n",
    "\n",
    "- The output shows that the `F-statistic` is approximately `15.66` and the `p-value` is approximately `0.00045`. \n",
    "- Therefore, we `reject the null hypothesis`. \n",
    "- This suggests that at least one of the means of the plant growth for the three fertilizers is `different` according to the one-way ANOVA test."
   ]
  },
  {
   "cell_type": "markdown",
   "metadata": {},
   "source": [
    "### **1.3 One-Way ANOVA using Statsmodels:**"
   ]
  },
  {
   "cell_type": "code",
   "execution_count": 2,
   "metadata": {},
   "outputs": [],
   "source": [
    "# Install statsmodels\n",
    "!pip install statsmodels --quiet"
   ]
  },
  {
   "cell_type": "code",
   "execution_count": 3,
   "metadata": {},
   "outputs": [],
   "source": [
    "# Instaling libraries\n",
    "import pandas as pd\n",
    "import statsmodels.api as sm\n",
    "from statsmodels.formula.api import ols"
   ]
  },
  {
   "cell_type": "code",
   "execution_count": 6,
   "metadata": {},
   "outputs": [
    {
     "data": {
      "text/html": [
       "<div>\n",
       "<style scoped>\n",
       "    .dataframe tbody tr th:only-of-type {\n",
       "        vertical-align: middle;\n",
       "    }\n",
       "\n",
       "    .dataframe tbody tr th {\n",
       "        vertical-align: top;\n",
       "    }\n",
       "\n",
       "    .dataframe thead th {\n",
       "        text-align: right;\n",
       "    }\n",
       "</style>\n",
       "<table border=\"1\" class=\"dataframe\">\n",
       "  <thead>\n",
       "    <tr style=\"text-align: right;\">\n",
       "      <th></th>\n",
       "      <th>fertilizer</th>\n",
       "      <th>growth</th>\n",
       "    </tr>\n",
       "  </thead>\n",
       "  <tbody>\n",
       "    <tr>\n",
       "      <th>0</th>\n",
       "      <td>fertilizer1</td>\n",
       "      <td>20</td>\n",
       "    </tr>\n",
       "    <tr>\n",
       "      <th>1</th>\n",
       "      <td>fertilizer1</td>\n",
       "      <td>22</td>\n",
       "    </tr>\n",
       "    <tr>\n",
       "      <th>2</th>\n",
       "      <td>fertilizer1</td>\n",
       "      <td>19</td>\n",
       "    </tr>\n",
       "    <tr>\n",
       "      <th>3</th>\n",
       "      <td>fertilizer1</td>\n",
       "      <td>24</td>\n",
       "    </tr>\n",
       "    <tr>\n",
       "      <th>4</th>\n",
       "      <td>fertilizer1</td>\n",
       "      <td>25</td>\n",
       "    </tr>\n",
       "  </tbody>\n",
       "</table>\n",
       "</div>"
      ],
      "text/plain": [
       "    fertilizer  growth\n",
       "0  fertilizer1      20\n",
       "1  fertilizer1      22\n",
       "2  fertilizer1      19\n",
       "3  fertilizer1      24\n",
       "4  fertilizer1      25"
      ]
     },
     "execution_count": 6,
     "metadata": {},
     "output_type": "execute_result"
    }
   ],
   "source": [
    "# Create a dataframe\n",
    "df = pd.DataFrame({\"fertilizer\": [\"fertilizer1\"] * 5 + [\"fertilizer2\"] * 5 + [\"fertilizer3\"] * 5,\n",
    "                   \"growth\": fertilizer1 + fertilizer2 + fertilizer3})\n",
    "df.head()"
   ]
  },
  {
   "cell_type": "code",
   "execution_count": 7,
   "metadata": {},
   "outputs": [
    {
     "data": {
      "text/plain": [
       "fertilizer\n",
       "fertilizer1    5\n",
       "fertilizer2    5\n",
       "fertilizer3    5\n",
       "Name: count, dtype: int64"
      ]
     },
     "execution_count": 7,
     "metadata": {},
     "output_type": "execute_result"
    }
   ],
   "source": [
    "# Checking for value counts of each fertilizer\n",
    "df['fertilizer'].value_counts()"
   ]
  },
  {
   "cell_type": "code",
   "execution_count": 8,
   "metadata": {},
   "outputs": [],
   "source": [
    "# Fit the model using ols function\n",
    "model = ols(\"growth ~ fertilizer\", data=df).fit()"
   ]
  },
  {
   "cell_type": "code",
   "execution_count": 9,
   "metadata": {},
   "outputs": [
    {
     "name": "stdout",
     "output_type": "stream",
     "text": [
      "                sum_sq    df          F    PR(>F)\n",
      "fertilizer  154.533333   2.0  15.662162  0.000452\n",
      "Residual     59.200000  12.0        NaN       NaN\n"
     ]
    }
   ],
   "source": [
    "# Perform ANOVA and print the summary table\n",
    "anova_table = sm.stats.anova_lm(model, typ=2)\n",
    "print(anova_table)"
   ]
  },
  {
   "cell_type": "code",
   "execution_count": 10,
   "metadata": {},
   "outputs": [
    {
     "name": "stdout",
     "output_type": "stream",
     "text": [
      "Reject null hypothesis: The means are not equal, as the p-value: {p_val} is less than 0.05\n"
     ]
    },
    {
     "name": "stderr",
     "output_type": "stream",
     "text": [
      "C:\\Users\\Hp\\AppData\\Local\\Temp\\ipykernel_252\\2164794257.py:2: FutureWarning: Series.__getitem__ treating keys as positions is deprecated. In a future version, integer keys will always be treated as labels (consistent with DataFrame behavior). To access a value by position, use `ser.iloc[pos]`\n",
      "  if anova_table[\"PR(>F)\"][0] < 0.05:\n"
     ]
    }
   ],
   "source": [
    "# print the results based on if the p-value is less than 0.05\n",
    "if anova_table[\"PR(>F)\"][0] < 0.05:\n",
    "    print(\"Reject null hypothesis: The means are not equal, as the p-value: {p_val} is less than 0.05\")\n",
    "else:\n",
    "    print(\"Accept null hypothesis: The means are equal, as the p-value: {p_val} is greater than 0.05\")\n"
   ]
  },
  {
   "cell_type": "code",
   "execution_count": 11,
   "metadata": {},
   "outputs": [
    {
     "name": "stdout",
     "output_type": "stream",
     "text": [
      "                sum_sq    df          F    PR(>F)\n",
      "fertilizer  154.533333   2.0  15.662162  0.000452\n",
      "Residual     59.200000  12.0        NaN       NaN\n",
      "Reject null hypothesis: The means are not equal, as the p-value: {p_val} is less than 0.05\n"
     ]
    },
    {
     "name": "stderr",
     "output_type": "stream",
     "text": [
      "C:\\Users\\Hp\\AppData\\Local\\Temp\\ipykernel_252\\3735742722.py:18: FutureWarning: Series.__getitem__ treating keys as positions is deprecated. In a future version, integer keys will always be treated as labels (consistent with DataFrame behavior). To access a value by position, use `ser.iloc[pos]`\n",
      "  if anova_table[\"PR(>F)\"][0] < 0.05:\n"
     ]
    }
   ],
   "source": [
    "# One-way ANOVA using statsmodels\n",
    "import pandas as pd\n",
    "import statsmodels.api as sm\n",
    "from statsmodels.formula.api import ols\n",
    "\n",
    "# Create a dataframe\n",
    "df = pd.DataFrame({\"fertilizer\": [\"fertilizer1\"] * 5 + [\"fertilizer2\"] * 5 + [\"fertilizer3\"] * 5,\n",
    "                   \"growth\": fertilizer1 + fertilizer2 + fertilizer3})\n",
    "\n",
    "# Fit the model\n",
    "model = ols(\"growth ~ fertilizer\", data=df).fit()\n",
    "\n",
    "# Perform ANOVA and print the summary table\n",
    "anova_table = sm.stats.anova_lm(model, typ=2)\n",
    "print(anova_table)\n",
    "\n",
    "# print the results based on if the p-value is less than 0.05\n",
    "if anova_table[\"PR(>F)\"][0] < 0.05:\n",
    "    print(\"Reject null hypothesis: The means are not equal, as the p-value: {p_val} is less than 0.05\")\n",
    "else:\n",
    "    print(\"Accept null hypothesis: The means are equal, as the p-value: {p_val} is greater than 0.05\")\n"
   ]
  },
  {
   "cell_type": "markdown",
   "metadata": {},
   "source": [
    "The above code is performing a one-way ANOVA (Analysis of Variance) test using the statsmodels library on the growth of plants with three different types of fertilizers. Here's a step-by-step explanation:\n",
    "\n",
    "1. `Import the necessary libraries:` pandas, statsmodels.api, and statsmodels.formula.api.\n",
    "2. `Define the sample data` for the growth of plants with three types of fertilizers and create a DataFrame.\n",
    "3. `Fit the model` using the ols (Ordinary Least Squares) method from statsmodels.formula.api.\n",
    "4. Perform the ANOVA using `anova_lm()` function from statsmodels.api and print the `summary table`.\n",
    "5. Based on the p-value, a decision is made about the null hypothesis. If the p-value is less than 0.05, we reject the null hypothesis and conclude that at least one of the means of the plant growth for the three fertilizers is different. If the p-value is greater than or equal to 0.05, we fail to reject the null hypothesis and conclude that all the means are equal.\n",
    "\n",
    "**Observations from the output:**\n",
    "\n",
    "- The output shows that the `F-statistic` is approximately `15.66` and the `p-value` is approximately `0.00045`. \n",
    "- Therefore, we `reject the null hypothesis`. \n",
    "- This suggests that at least one of the means of the plant growth for the three fertilizers is `different` according to the one-way ANOVA test.\n",
    "\n",
    "**Note:** The warning message indicates that using integer keys to access a value in a pandas Series is deprecated and will be removed in a future version. To access a value by position, you should use the `iloc` property. So, you should replace `anova_table[\"PR(>F)\"][0]` with `anova_table[\"PR(>F)\"].iloc[0]`."
   ]
  },
  {
   "cell_type": "markdown",
   "metadata": {},
   "source": [
    "## **2. TWO-WAY ANOVA**"
   ]
  },
  {
   "cell_type": "code",
   "execution_count": 12,
   "metadata": {},
   "outputs": [
    {
     "data": {
      "text/html": [
       "<div>\n",
       "<style scoped>\n",
       "    .dataframe tbody tr th:only-of-type {\n",
       "        vertical-align: middle;\n",
       "    }\n",
       "\n",
       "    .dataframe tbody tr th {\n",
       "        vertical-align: top;\n",
       "    }\n",
       "\n",
       "    .dataframe thead th {\n",
       "        text-align: right;\n",
       "    }\n",
       "</style>\n",
       "<table border=\"1\" class=\"dataframe\">\n",
       "  <thead>\n",
       "    <tr style=\"text-align: right;\">\n",
       "      <th></th>\n",
       "      <th>Growth</th>\n",
       "      <th>Fertilizer</th>\n",
       "      <th>Sunlight</th>\n",
       "    </tr>\n",
       "  </thead>\n",
       "  <tbody>\n",
       "    <tr>\n",
       "      <th>0</th>\n",
       "      <td>20</td>\n",
       "      <td>F1</td>\n",
       "      <td>High</td>\n",
       "    </tr>\n",
       "    <tr>\n",
       "      <th>1</th>\n",
       "      <td>22</td>\n",
       "      <td>F1</td>\n",
       "      <td>High</td>\n",
       "    </tr>\n",
       "    <tr>\n",
       "      <th>2</th>\n",
       "      <td>19</td>\n",
       "      <td>F1</td>\n",
       "      <td>High</td>\n",
       "    </tr>\n",
       "    <tr>\n",
       "      <th>3</th>\n",
       "      <td>24</td>\n",
       "      <td>F1</td>\n",
       "      <td>High</td>\n",
       "    </tr>\n",
       "    <tr>\n",
       "      <th>4</th>\n",
       "      <td>25</td>\n",
       "      <td>F1</td>\n",
       "      <td>High</td>\n",
       "    </tr>\n",
       "  </tbody>\n",
       "</table>\n",
       "</div>"
      ],
      "text/plain": [
       "   Growth Fertilizer Sunlight\n",
       "0      20         F1     High\n",
       "1      22         F1     High\n",
       "2      19         F1     High\n",
       "3      24         F1     High\n",
       "4      25         F1     High"
      ]
     },
     "execution_count": 12,
     "metadata": {},
     "output_type": "execute_result"
    }
   ],
   "source": [
    "# Sample data\n",
    "data = pd.DataFrame({\n",
    "    \"Growth\": [20, 22, 19, 24, 25, 28, 30, 27, 26, 29, 18, 20, 22, 19, 24,\n",
    "               21, 23, 20, 25, 26, 29, 31, 28, 27, 30, 19, 21, 23, 20, 25],\n",
    "    \"Fertilizer\": [\"F1\", \"F1\", \"F1\", \"F1\", \"F1\", \"F2\", \"F2\", \"F2\", \"F2\", \"F2\", \n",
    "                   \"F3\", \"F3\", \"F3\", \"F3\", \"F3\", \"F1\", \"F1\", \"F1\", \"F1\", \"F1\", \n",
    "                   \"F2\", \"F2\", \"F2\", \"F2\", \"F2\", \"F3\", \"F3\", \"F3\", \"F3\", \"F3\"],\n",
    "    \"Sunlight\": [\"High\", \"High\", \"High\", \"High\", \"High\", \"High\", \"High\", \"High\", \"High\", \"High\", \n",
    "                 \"High\", \"High\", \"High\", \"High\", \"High\", \"Low\", \"Low\", \"Low\", \"Low\", \"Low\", \n",
    "                 \"Low\", \"Low\", \"Low\", \"Low\", \"Low\", \"Low\", \"Low\", \"Low\", \"Low\", \"Low\"]\n",
    "})\n",
    "data.head()"
   ]
  },
  {
   "cell_type": "code",
   "execution_count": 13,
   "metadata": {},
   "outputs": [
    {
     "name": "stdout",
     "output_type": "stream",
     "text": [
      "                                 sum_sq    df             F        PR(>F)\n",
      "C(Fertilizer)              3.090667e+02   2.0  3.132432e+01  2.038888e-07\n",
      "C(Sunlight)                7.500000e+00   1.0  1.520270e+00  2.295198e-01\n",
      "C(Fertilizer):C(Sunlight)  4.733165e-29   2.0  4.797127e-30  1.000000e+00\n",
      "Residual                   1.184000e+02  24.0           NaN           NaN\n",
      "Reject null hypothesis: The means are not equal, as the p-value: {p_val} is less than 0.05\n"
     ]
    },
    {
     "name": "stderr",
     "output_type": "stream",
     "text": [
      "C:\\Users\\Hp\\AppData\\Local\\Temp\\ipykernel_252\\1127512014.py:25: FutureWarning: Series.__getitem__ treating keys as positions is deprecated. In a future version, integer keys will always be treated as labels (consistent with DataFrame behavior). To access a value by position, use `ser.iloc[pos]`\n",
      "  if anova_table[\"PR(>F)\"][0] < 0.05:\n"
     ]
    }
   ],
   "source": [
    "# Import Libraries\n",
    "import pandas as pd\n",
    "import statsmodels.api as sm\n",
    "from statsmodels.formula.api import ols\n",
    "\n",
    "# Sample data\n",
    "data = pd.DataFrame({\n",
    "    \"Growth\": [20, 22, 19, 24, 25, 28, 30, 27, 26, 29, 18, 20, 22, 19, 24,\n",
    "               21, 23, 20, 25, 26, 29, 31, 28, 27, 30, 19, 21, 23, 20, 25],\n",
    "    \"Fertilizer\": [\"F1\", \"F1\", \"F1\", \"F1\", \"F1\", \"F2\", \"F2\", \"F2\", \"F2\", \"F2\", \n",
    "                   \"F3\", \"F3\", \"F3\", \"F3\", \"F3\", \"F1\", \"F1\", \"F1\", \"F1\", \"F1\", \n",
    "                   \"F2\", \"F2\", \"F2\", \"F2\", \"F2\", \"F3\", \"F3\", \"F3\", \"F3\", \"F3\"],\n",
    "    \"Sunlight\": [\"High\", \"High\", \"High\", \"High\", \"High\", \"High\", \"High\", \"High\", \"High\", \"High\", \n",
    "                 \"High\", \"High\", \"High\", \"High\", \"High\", \"Low\", \"Low\", \"Low\", \"Low\", \"Low\", \n",
    "                 \"Low\", \"Low\", \"Low\", \"Low\", \"Low\", \"Low\", \"Low\", \"Low\", \"Low\", \"Low\"]\n",
    "})\n",
    "\n",
    "# Perform two-way ANOVA\n",
    "model = ols('Growth ~ C(Fertilizer) + C(Sunlight) + C(Fertilizer):C(Sunlight)', data=data).fit()\n",
    "anova_table = sm.stats.anova_lm(model, typ=2)\n",
    "\n",
    "print(anova_table)\n",
    "\n",
    "# print the results based on if the p-value is less than 0.05\n",
    "\n",
    "if anova_table[\"PR(>F)\"][0] < 0.05:\n",
    "    print(\"Reject null hypothesis: The means are not equal, as the p-value: {p_val} is less than 0.05\")\n",
    "else:\n",
    "    print(\"Accept null hypothesis: The means are equal, as the p-value: {p_val} is greater than 0.05\")"
   ]
  },
  {
   "cell_type": "markdown",
   "metadata": {},
   "source": [
    "The above code is performing a two-way ANOVA (Analysis of Variance) test using the statsmodels library on the growth of plants with `three` different types of `fertilizers` and `two` different `sunlight conditions`. Here's a step-by-step explanation:\n",
    "\n",
    "1. `Import the necessary libraries:` pandas, statsmodels.api, and statsmodels.formula.api.\n",
    "2. `Define the sample data` for the growth of plants with three types of fertilizers and two sunlight conditions and create a DataFrame.\n",
    "3. `Fit the model` using the ols (Ordinary Least Squares) method from statsmodels.formula.api. The formula includes the main effects (Fertilizer and Sunlight) and the interaction effect (Fertilizer:Sunlight).\n",
    "4. Perform the ANOVA using `anova_lm()` function from statsmodels.api and print the summary table.\n",
    "5. Based on the p-value, a decision is made about the null hypothesis. If the p-value is less than 0.05, we reject the null hypothesis and conclude that at least one of the means of the plant growth for the three fertilizers or the two sunlight conditions is different. If the p-value is greater than or equal to 0.05, we fail to reject the null hypothesis and conclude that all the means are equal.\n",
    "\n",
    "**Observations from the output:**\n",
    "\n",
    "- The output shows that the `F-statistic` and the `p-value` for the Fertilizer effect are significant (`p-value < 0.05`), so we `reject the null hypothesis` for the Fertilizer effect. \n",
    "- This suggests that at least one of the means of the plant growth for the three fertilizers is `different` according to the two-way ANOVA test.\n",
    "\n",
    "**Note:** The warning message indicates that using integer keys to access a value in a pandas Series is deprecated and will be removed in a future version. To access a value by position, you should use the `iloc` property. So, you should replace `anova_table[\"PR(>F)\"][0]` with `anova_table[\"PR(>F)\"].iloc[0]`."
   ]
  },
  {
   "cell_type": "markdown",
   "metadata": {},
   "source": [
    "## **TIPS:**\n",
    "- For `One-Way ANOVA`, if the p-value is less than 0.05, it suggests a significant difference in means among the groups.\n",
    "- For `Two-Way ANOVA`, we look at the p-values for each factor and their interaction. A p-value less than 0.05 indicates a significant effect.\n",
    "\n",
    "These examples should give you a good starting point for conducting ANOVA analyses in Python. Remember, the interpretation of your results should always take into account the context of your data and the specific question you are trying to answer."
   ]
  },
  {
   "cell_type": "markdown",
   "metadata": {},
   "source": [
    "## **3. N-way ANOVA:**\n",
    "\n",
    "> `N-way ANOVA`, also known as `factorial ANOVA`, is used when you have more than two independent variables. It allows you to analyze the effects of each factor on the dependent variable and the interaction effects between factors.\n",
    "\n",
    "**Example: Three-Way ANOVA**\n",
    "\n",
    "Suppose we have an experimental data set with three factors:\n",
    "\n",
    "1. Fertilizer Type (3 levels: F1, F2, F3)\n",
    "2. Sunlight Exposure (2 levels: High, Low)\n",
    "3. Watering Frequency (2 levels: Regular, Sparse)\n",
    "\n",
    "**We want to study the impact of these factors and their interactions on plant growth.**"
   ]
  },
  {
   "cell_type": "code",
   "execution_count": 12,
   "metadata": {},
   "outputs": [
    {
     "name": "stdout",
     "output_type": "stream",
     "text": [
      "                                             sum_sq    df             F  \\\n",
      "C(Fertilizer)                          5.672800e-02   2.0  7.032396e-03   \n",
      "C(Sunlight)                           -5.817865e-12   1.0 -1.442446e-12   \n",
      "C(Watering)                            3.467164e-13   1.0  8.596273e-14   \n",
      "C(Fertilizer):C(Sunlight)             -1.058405e-12   2.0 -1.312072e-13   \n",
      "C(Fertilizer):C(Watering)              1.248386e-12   2.0  1.547585e-13   \n",
      "C(Sunlight):C(Watering)                2.054444e+01   1.0  5.093664e+00   \n",
      "C(Fertilizer):C(Sunlight):C(Watering)  1.088889e+00   2.0  1.349862e-01   \n",
      "Residual                               1.573000e+02  39.0           NaN   \n",
      "\n",
      "                                         PR(>F)  \n",
      "C(Fertilizer)                          0.933597  \n",
      "C(Sunlight)                            1.000000  \n",
      "C(Watering)                            1.000000  \n",
      "C(Fertilizer):C(Sunlight)              1.000000  \n",
      "C(Fertilizer):C(Watering)              1.000000  \n",
      "C(Sunlight):C(Watering)                0.029691  \n",
      "C(Fertilizer):C(Sunlight):C(Watering)  0.874134  \n",
      "Residual                                    NaN  \n",
      "Fail to reject null hypothesis: The means are equal, as the p-value: {p_val} is greater than 0.05\n"
     ]
    },
    {
     "name": "stderr",
     "output_type": "stream",
     "text": [
      "c:\\Users\\aammar\\miniconda3\\envs\\python_eda\\Lib\\site-packages\\statsmodels\\base\\model.py:1888: ValueWarning: covariance of constraints does not have full rank. The number of constraints is 2, but rank is 1\n",
      "  warnings.warn('covariance of constraints does not have full '\n",
      "c:\\Users\\aammar\\miniconda3\\envs\\python_eda\\Lib\\site-packages\\statsmodels\\base\\model.py:1888: ValueWarning: covariance of constraints does not have full rank. The number of constraints is 2, but rank is 1\n",
      "  warnings.warn('covariance of constraints does not have full '\n",
      "C:\\Users\\aammar\\AppData\\Local\\Temp\\ipykernel_8868\\2024720544.py:42: FutureWarning: Series.__getitem__ treating keys as positions is deprecated. In a future version, integer keys will always be treated as labels (consistent with DataFrame behavior). To access a value by position, use `ser.iloc[pos]`\n",
      "  if anova_results[\"PR(>F)\"][0] < 0.05:\n"
     ]
    }
   ],
   "source": [
    "# importing libraries\n",
    "import pandas as pd\n",
    "import statsmodels.api as sm\n",
    "from statsmodels.formula.api import ols\n",
    "\n",
    "# Sample data\n",
    "data = pd.DataFrame({\n",
    "    \"Growth\": [20, 22, 19, 24, 25, 28, 30, 27, 26, 29, 18, 20, 22, 19, 24,\n",
    "               21, 23, 20, 25, 26, 29, 31, 28, 27, 30, 19, 21, 23, 20, 25,\n",
    "               20, 22, 21, 23, 24, 26, 28, 25, 27, 29, 17, 19, 21, 18, 20],\n",
    "    \"Fertilizer\": [\"F1\", \"F1\", \"F1\", \"F1\", \"F1\", \"F2\", \"F2\", \"F2\", \"F2\", \"F2\", \n",
    "                   \"F3\", \"F3\", \"F3\", \"F3\", \"F3\", \"F1\", \"F1\", \"F1\", \"F1\", \"F1\", \n",
    "                   \"F2\", \"F2\", \"F2\", \"F2\", \"F2\", \"F3\", \"F3\", \"F3\", \"F3\", \"F3\",\n",
    "                   \"F1\", \"F1\", \"F1\", \"F1\", \"F1\", \"F2\", \"F2\", \"F2\", \"F2\", \"F2\", \n",
    "                   \"F3\", \"F3\", \"F3\", \"F3\", \"F3\"],\n",
    "    \"Sunlight\": [\"High\", \"High\", \"High\", \"High\", \"High\", \"High\", \"High\", \"High\", \"High\", \"High\", \n",
    "                 \"High\", \"High\", \"High\", \"High\", \"High\", \"Low\", \"Low\", \"Low\", \"Low\", \"Low\", \n",
    "                 \"Low\", \"Low\", \"Low\", \"Low\", \"Low\", \"Low\", \"Low\", \"Low\", \"Low\", \"Low\",\n",
    "                 \"High\", \"High\", \"High\", \"High\", \"High\", \"High\", \"High\", \"High\", \"High\", \"High\", \n",
    "                 \"High\", \"High\", \"High\", \"High\", \"High\"],\n",
    "    \"Watering\": [\"Regular\", \"Regular\", \"Regular\", \"Regular\", \"Regular\", \n",
    "                 \"Regular\", \"Regular\", \"Regular\", \"Regular\", \"Regular\",\n",
    "                 \"Regular\", \"Regular\", \"Regular\", \"Regular\", \"Regular\",\n",
    "                 \"Sparse\", \"Sparse\", \"Sparse\", \"Sparse\", \"Sparse\", \n",
    "                 \"Sparse\", \"Sparse\", \"Sparse\", \"Sparse\", \"Sparse\",\n",
    "                 \"Sparse\", \"Sparse\", \"Sparse\", \"Sparse\", \"Sparse\",\n",
    "                 \"Regular\", \"Regular\", \"Regular\", \"Regular\", \"Regular\", \n",
    "                 \"Regular\", \"Regular\", \"Regular\", \"Regular\", \"Regular\",\n",
    "                 \"Regular\", \"Regular\", \"Regular\", \"Regular\", \"Regular\"]\n",
    "})\n",
    "\n",
    "# Fit the model\n",
    "model = ols('Growth ~ C(Fertilizer) + C(Sunlight) + C(Watering) + C(Fertilizer):C(Sunlight) + C(Fertilizer):C(Watering) + C(Sunlight):C(Watering) + C(Fertilizer):C(Sunlight):C(Watering)', data=data).fit()\n",
    "\n",
    "# Perform three-way ANOVA\n",
    "anova_results = sm.stats.anova_lm(model, typ=2)\n",
    "\n",
    "print(anova_results)\n",
    "\n",
    "\n",
    "# print the results based on if the p-value is less than 0.05\n",
    "\n",
    "if anova_results[\"PR(>F)\"][0] < 0.05:\n",
    "    print(\"Reject null hypothesis: The means are not equal, as the p-value: {p_val} is less than 0.05\")\n",
    "else:\n",
    "    print(\"Fail to reject null hypothesis: The means are equal, as the p-value: {p_val} is greater than 0.05\")\n"
   ]
  },
  {
   "cell_type": "markdown",
   "metadata": {},
   "source": [
    "The above code is performing a three-way ANOVA (Analysis of Variance) test using the statsmodels library on the growth of plants with `three` different types of `fertilizers`, `two` different `sunlight conditions`, and `two` different `watering conditions`. Here's a step-by-step explanation:\n",
    "\n",
    "1. `Import the necessary libraries:` pandas, statsmodels.api, and statsmodels.formula.api.\n",
    "2. `Define the sample data` for the growth of plants with three types of fertilizers, two sunlight conditions, and two watering conditions and create a DataFrame.\n",
    "3. `Fit the model` using the ols (Ordinary Least Squares) method from statsmodels.formula.api. The formula includes the main effects (Fertilizer, Sunlight, Watering) and the interaction effects (Fertilizer:Sunlight, Fertilizer:Watering, Sunlight:Watering, Fertilizer:Sunlight:Watering).\n",
    "4. Perform the `three-way ANOVA` using `anova_lm()` function from statsmodels.api and print the summary table.\n",
    "5. Based on the p-value, a decision is made about the null hypothesis. If the p-value is less than 0.05, we reject the null hypothesis and conclude that at least one of the means of the plant growth for the three fertilizers, the two sunlight conditions, or the two watering conditions is different. If the p-value is greater than or equal to 0.05, we fail to reject the null hypothesis and conclude that all the means are equal.\n",
    "\n",
    "**Observations from the output:**\n",
    "\n",
    "- The output shows that the `F-statistic` and the `p-value` for the `Sunlight:Watering` effect are significant (`p-value < 0.05`), so we `reject the null hypothesis` for the Sunlight:Watering effect. \n",
    "- This suggests that the interaction between sunlight and watering has a significant effect on plant growth according to the three-way ANOVA test.\n",
    "\n",
    "**Note:** The warning messages indicate that the covariance of constraints does not have full rank, which means that there might be multicollinearity in the data. The FutureWarning message indicates that using integer keys to access a value in a pandas Series is deprecated and will be removed in a future version. To access a value by position, you should use the `iloc` property. So, you should replace `anova_results[\"PR(>F)\"][0]` with `anova_results[\"PR(>F)\"].iloc[0]`."
   ]
  },
  {
   "cell_type": "markdown",
   "metadata": {},
   "source": [
    "### **TIPS:**\n",
    "In the output, you'll see p-values for:\n",
    "\n",
    "- The main effects of each factor (Fertilizer, Sunlight, Watering)\n",
    "- The interaction effects between two factors (e.g., Fertilizer:Sunlight)\n",
    "- The interaction effect among all three factors (Fertilizer:Sunlight:Watering)\n",
    "\n",
    "A p-value less than 0.05 typically suggests a statistically significant effect. However, interpreting ANOVA results can be complex, especially with interactions. You should consider the practical significance and the context of your experiment alongside the statistical results.\n",
    "\n",
    "Remember, ANOVA makes certain assumptions (normality, homogeneity of variance, and independence), which should be tested before running the analysis."
   ]
  },
  {
   "cell_type": "markdown",
   "metadata": {},
   "source": [
    "---\n",
    "# **4. Post-hoc Tests**\n",
    "\n",
    "> A post-hoc test is a statistical analysis conducted after an initial test like ANOVA. \n",
    "> It's used to determine `which specific groups' means (average values) are different from each other`. \n",
    "> Post-hoc tests adjust for multiple comparisons to control the probability of falsely rejecting the null hypothesis (Type I error).\n",
    "\n",
    "Common post-hoc tests include: \n",
    "1. Tukey's HSD\n",
    "2. Bonferroni correction\n",
    "3. Scheffé's method\n",
    "\n",
    "- After conducting an ANOVA and finding a significant difference, a post hoc test is needed to determine exactly which groups differ from each other.  \n",
    "\n",
    "#### **`Important Considerations:`**\n",
    "- **Interpreting Results:** Tukey's test results will show pairwise comparisons between groups and indicate which differences are statistically significant.\n",
    "- **Alpha Level:** The alpha parameter is typically set at 0.05, which is the threshold for significance.\n",
    "- **Assumptions:** Like ANOVA, Tukey's HSD assumes homogeneity of variances and normally distributed data within each group.\n",
    "\n",
    "Here, I'll demonstrate post hoc tests for one-way, two-way, and N-way ANOVA using Python."
   ]
  },
  {
   "cell_type": "markdown",
   "metadata": {},
   "source": [
    "## **4.1 Post-hoc Tests for `One-Way ANOVA` using Tukey's HSD:**"
   ]
  },
  {
   "cell_type": "code",
   "execution_count": 15,
   "metadata": {},
   "outputs": [
    {
     "name": "stdout",
     "output_type": "stream",
     "text": [
      " Multiple Comparison of Means - Tukey HSD, FWER=0.05 \n",
      "=====================================================\n",
      "group1 group2 meandiff p-adj   lower    upper  reject\n",
      "-----------------------------------------------------\n",
      "    F1     F2      6.0 0.0029   2.2523  9.7477   True\n",
      "    F1     F3     -1.4 0.5928  -5.1477  2.3477  False\n",
      "    F2     F3     -7.4 0.0005 -11.1477 -3.6523   True\n",
      "-----------------------------------------------------\n"
     ]
    }
   ],
   "source": [
    "# Import libraries\n",
    "from statsmodels.stats.multicomp import pairwise_tukeyhsd\n",
    "import numpy as np\n",
    "\n",
    "# Sample data\n",
    "data = {\n",
    "    'Growth': np.concatenate([fertilizer1, fertilizer2, fertilizer3]),\n",
    "    'Fertilizer': ['F1']*len(fertilizer1) + ['F2']*len(fertilizer2) + ['F3']*len(fertilizer3)\n",
    "}\n",
    "\n",
    "# Convert to DataFrame\n",
    "df = pd.DataFrame(data)\n",
    "\n",
    "# Tukey's HSD test\n",
    "tukey = pairwise_tukeyhsd(endog=df['Growth'], groups=df['Fertilizer'], alpha=0.05) # alpha is the confidence level (95%)\n",
    "print(tukey)"
   ]
  },
  {
   "cell_type": "markdown",
   "metadata": {},
   "source": [
    "The code is performing Tukey's HSD (Honestly Significant Difference) post-hoc test using the statsmodels library on the `growth` of plants with `three different types of fertilizers`. Here's a step-by-step explanation:\n",
    "\n",
    "1. `Import the necessary libraries:` statsmodels.stats.multicomp and numpy.\n",
    "2. `Define the sample data` for the growth of plants with three types of fertilizers and create a DataFrame.\n",
    "3. `Perform Tukey's HSD test` using `pairwise_tukeyhsd()` function from statsmodels.stats.multicomp. This function returns a result object that can be printed to get a summary of the test.\n",
    "4. Print the `summary` of the test.\n",
    "\n",
    "**Observations from the output:**\n",
    "\n",
    "- The output shows the `pairwise comparison`s between the three fertilizers. \n",
    "- For each pair, it shows the `difference in means` (meandiff), the adjusted p-value (p-adj), the lower and upper bounds of the 95% confidence interval for the difference in means, and whether to reject the null hypothesis (reject) at the 5% significance level.\n",
    "\n",
    "- The results suggest that there is a `significant difference` in plant growth between Fertilizer 1 and Fertilizer 2 (`p-adj = 0.0029`, reject = True)\n",
    "- There is a `significant differene` between Fertilizer 2 and Fertilizer 3 (`p-adj = 0.0005`, reject = True). \n",
    "- There is `no significant difference` in plant growth between Fertilizer 1 and Fertilizer 3 (`p-adj = 0.5928`, reject = False)."
   ]
  },
  {
   "cell_type": "markdown",
   "metadata": {},
   "source": [
    "## **4.2 Post-hoc Tests for `Two-Way ANOVA` using Tukey's HSD:**"
   ]
  },
  {
   "cell_type": "code",
   "execution_count": 9,
   "metadata": {},
   "outputs": [
    {
     "name": "stdout",
     "output_type": "stream",
     "text": [
      " Multiple Comparison of Means - Tukey HSD, FWER=0.05 \n",
      "=====================================================\n",
      "group1 group2 meandiff p-adj   lower    upper  reject\n",
      "-----------------------------------------------------\n",
      "F1High  F1Low      1.0 0.9786  -3.3434  5.3434  False\n",
      "F1High F2High      6.0 0.0032   1.6566 10.3434   True\n",
      "F1High  F2Low      7.0 0.0006   2.6566 11.3434   True\n",
      "F1High F3High     -1.4 0.9145  -5.7434  2.9434  False\n",
      "F1High  F3Low     -0.4 0.9997  -4.7434  3.9434  False\n",
      " F1Low F2High      5.0 0.0176   0.6566  9.3434   True\n",
      " F1Low  F2Low      6.0 0.0032   1.6566 10.3434   True\n",
      " F1Low F3High     -2.4 0.5396  -6.7434  1.9434  False\n",
      " F1Low  F3Low     -1.4 0.9145  -5.7434  2.9434  False\n",
      "F2High  F2Low      1.0 0.9786  -3.3434  5.3434  False\n",
      "F2High F3High     -7.4 0.0003 -11.7434 -3.0566   True\n",
      "F2High  F3Low     -6.4 0.0016 -10.7434 -2.0566   True\n",
      " F2Low F3High     -8.4    0.0 -12.7434 -4.0566   True\n",
      " F2Low  F3Low     -7.4 0.0003 -11.7434 -3.0566   True\n",
      "F3High  F3Low      1.0 0.9786  -3.3434  5.3434  False\n",
      "-----------------------------------------------------\n"
     ]
    }
   ],
   "source": [
    "from statsmodels.stats.multicomp import pairwise_tukeyhsd\n",
    "import pandas as pd\n",
    "import statsmodels.api as sm\n",
    "from statsmodels.formula.api import ols\n",
    "\n",
    "# Sample data\n",
    "data = pd.DataFrame({\n",
    "    \"Growth\": [20, 22, 19, 24, 25, 28, 30, 27, 26, 29, 18, 20, 22, 19, 24,\n",
    "               21, 23, 20, 25, 26, 29, 31, 28, 27, 30, 19, 21, 23, 20, 25],\n",
    "    \"Fertilizer\": [\"F1\", \"F1\", \"F1\", \"F1\", \"F1\", \"F2\", \"F2\", \"F2\", \"F2\", \"F2\", \n",
    "                   \"F3\", \"F3\", \"F3\", \"F3\", \"F3\", \"F1\", \"F1\", \"F1\", \"F1\", \"F1\", \n",
    "                   \"F2\", \"F2\", \"F2\", \"F2\", \"F2\", \"F3\", \"F3\", \"F3\", \"F3\", \"F3\"],\n",
    "    \"Sunlight\": [\"High\", \"High\", \"High\", \"High\", \"High\", \"High\", \"High\", \"High\", \"High\", \"High\", \n",
    "                 \"High\", \"High\", \"High\", \"High\", \"High\", \"Low\", \"Low\", \"Low\", \"Low\", \"Low\", \n",
    "                 \"Low\", \"Low\", \"Low\", \"Low\", \"Low\", \"Low\", \"Low\", \"Low\", \"Low\", \"Low\"]\n",
    "})\n",
    "\n",
    "tukey = pairwise_tukeyhsd(data['Growth'], data['Fertilizer'] + data['Sunlight'], alpha=0.05)\n",
    "print(tukey)"
   ]
  },
  {
   "cell_type": "markdown",
   "metadata": {},
   "source": [
    "The above code is performing Tukey's HSD (Honestly Significant Difference) post-hoc test using the statsmodels library on the growth of plants with `three` different types of `fertilizers` and `two` different `sunlight conditions` (High and Low). Here's a step-by-step explanation:\n",
    "\n",
    "1. `Import the necessary libraries:` statsmodels.stats.multicomp, pandas, statsmodels.api, and statsmodels.formula.api.\n",
    "2. `Define the sample data` for the growth of plants with three types of fertilizers and two sunlight conditions and create a DataFrame.\n",
    "3. `Perform Tukey's HSD test` using `pairwise_tukeyhsd()` function from statsmodels.stats.multicomp. This function returns a result object that can be printed to get a summary of the test.\n",
    "4. Print the `summary` of the test.\n",
    "\n",
    "**Observations from the output:**\n",
    "\n",
    "- The output shows the `pairwise comparisons` between the `six groups` (F1High, F1Low, F2High, F2Low, F3High, F3Low). \n",
    "- For each pair, it shows the difference in means (`meandiff`), the adjusted p-value (`p-adj`), the `lower` and `upper bounds` of the 95% confidence interval for the difference in means, and whether to reject the null hypothesis (reject) at the 5% significance level.\n",
    "\n",
    "- The results suggest that there are `significant differences` in plant growth between several pairs of groups. \n",
    "- For example\n",
    "- There is a `significant difference` in Plant growth between: \n",
    "  - `F1High` and `F2High` (`p-adj = 0.0032`, reject = True)\n",
    "  - `F1High` and `F2Low` (`p-adj = 0.0006`, reject = True)\n",
    "  - `F2High` and `F3High`, `F2High` and `F3Low`, `F2Low` and `F3High`, and `F2Low` and `F3Low`. \n",
    "- There are no significant differences in plant growth between the other pairs of groups."
   ]
  },
  {
   "cell_type": "markdown",
   "metadata": {},
   "source": [
    "## **4.3 Post-hoc Tests for `N-Way ANOVA` using Tukey's HSD:**"
   ]
  },
  {
   "cell_type": "code",
   "execution_count": 10,
   "metadata": {},
   "outputs": [
    {
     "name": "stdout",
     "output_type": "stream",
     "text": [
      "        Multiple Comparison of Means - Tukey HSD, FWER=0.05        \n",
      "===================================================================\n",
      "    group1        group2    meandiff p-adj   lower    upper  reject\n",
      "-------------------------------------------------------------------\n",
      "F1HighRegular   F1LowSparse      1.0 0.9419  -2.2956  4.2956  False\n",
      "F1HighRegular F2HighRegular      5.5    0.0   2.8092  8.1908   True\n",
      "F1HighRegular   F2LowSparse      7.0    0.0   3.7044 10.2956   True\n",
      "F1HighRegular F3HighRegular     -2.2 0.1647  -4.8908  0.4908  False\n",
      "F1HighRegular   F3LowSparse     -0.4 0.9991  -3.6956  2.8956  False\n",
      "  F1LowSparse F2HighRegular      4.5 0.0027   1.2044  7.7956   True\n",
      "  F1LowSparse   F2LowSparse      6.0 0.0004   2.1946  9.8054   True\n",
      "  F1LowSparse F3HighRegular     -3.2 0.0613  -6.4956  0.0956  False\n",
      "  F1LowSparse   F3LowSparse     -1.4 0.8775  -5.2054  2.4054  False\n",
      "F2HighRegular   F2LowSparse      1.5 0.7478  -1.7956  4.7956  False\n",
      "F2HighRegular F3HighRegular     -7.7    0.0 -10.3908 -5.0092   True\n",
      "F2HighRegular   F3LowSparse     -5.9 0.0001  -9.1956 -2.6044   True\n",
      "  F2LowSparse F3HighRegular     -9.2    0.0 -12.4956 -5.9044   True\n",
      "  F2LowSparse   F3LowSparse     -7.4    0.0 -11.2054 -3.5946   True\n",
      "F3HighRegular   F3LowSparse      1.8 0.5804  -1.4956  5.0956  False\n",
      "-------------------------------------------------------------------\n"
     ]
    }
   ],
   "source": [
    "from statsmodels.stats.multicomp import pairwise_tukeyhsd\n",
    "# Sample data\n",
    "data = pd.DataFrame({\n",
    "    \"Growth\": [20, 22, 19, 24, 25, 28, 30, 27, 26, 29, 18, 20, 22, 19, 24,\n",
    "               21, 23, 20, 25, 26, 29, 31, 28, 27, 30, 19, 21, 23, 20, 25,\n",
    "               20, 22, 21, 23, 24, 26, 28, 25, 27, 29, 17, 19, 21, 18, 20],\n",
    "    \"Fertilizer\": [\"F1\", \"F1\", \"F1\", \"F1\", \"F1\", \"F2\", \"F2\", \"F2\", \"F2\", \"F2\", \n",
    "                   \"F3\", \"F3\", \"F3\", \"F3\", \"F3\", \"F1\", \"F1\", \"F1\", \"F1\", \"F1\", \n",
    "                   \"F2\", \"F2\", \"F2\", \"F2\", \"F2\", \"F3\", \"F3\", \"F3\", \"F3\", \"F3\",\n",
    "                   \"F1\", \"F1\", \"F1\", \"F1\", \"F1\", \"F2\", \"F2\", \"F2\", \"F2\", \"F2\", \n",
    "                   \"F3\", \"F3\", \"F3\", \"F3\", \"F3\"],\n",
    "    \"Sunlight\": [\"High\", \"High\", \"High\", \"High\", \"High\", \"High\", \"High\", \"High\", \"High\", \"High\", \n",
    "                 \"High\", \"High\", \"High\", \"High\", \"High\", \"Low\", \"Low\", \"Low\", \"Low\", \"Low\", \n",
    "                 \"Low\", \"Low\", \"Low\", \"Low\", \"Low\", \"Low\", \"Low\", \"Low\", \"Low\", \"Low\",\n",
    "                 \"High\", \"High\", \"High\", \"High\", \"High\", \"High\", \"High\", \"High\", \"High\", \"High\", \n",
    "                 \"High\", \"High\", \"High\", \"High\", \"High\"],\n",
    "    \"Watering\": [\"Regular\", \"Regular\", \"Regular\", \"Regular\", \"Regular\", \n",
    "                 \"Regular\", \"Regular\", \"Regular\", \"Regular\", \"Regular\",\n",
    "                 \"Regular\", \"Regular\", \"Regular\", \"Regular\", \"Regular\",\n",
    "                 \"Sparse\", \"Sparse\", \"Sparse\", \"Sparse\", \"Sparse\", \n",
    "                 \"Sparse\", \"Sparse\", \"Sparse\", \"Sparse\", \"Sparse\",\n",
    "                 \"Sparse\", \"Sparse\", \"Sparse\", \"Sparse\", \"Sparse\",\n",
    "                 \"Regular\", \"Regular\", \"Regular\", \"Regular\", \"Regular\", \n",
    "                 \"Regular\", \"Regular\", \"Regular\", \"Regular\", \"Regular\",\n",
    "                 \"Regular\", \"Regular\", \"Regular\", \"Regular\", \"Regular\"]\n",
    "})\n",
    "\n",
    "tukey = pairwise_tukeyhsd(data['Growth'], data['Fertilizer'] + data['Sunlight'] + data['Watering'], alpha=0.05)\n",
    "print(tukey)"
   ]
  },
  {
   "cell_type": "markdown",
   "metadata": {},
   "source": [
    "The above code is performing Tukey's HSD (Honestly Significant Difference) post-hoc test using the statsmodels library on the growth of plants with three different types of fertilizers, two different sunlight conditions (High and Low), and two different watering conditions (Regular and Sparse). Here's a step-by-step explanation:\n",
    "\n",
    "1. Import the necessary library: `pairwise_tukeyhsd` from `statsmodels.stats.multicomp`.\n",
    "2. Define the sample data for the growth of plants with three types of fertilizers, two sunlight conditions, and two watering conditions, and create a DataFrame.\n",
    "3. Perform Tukey's HSD test using `pairwise_tukeyhsd()` function from statsmodels.stats.multicomp. This function returns a result object that can be printed to get a summary of the test.\n",
    "4. Print the summary of the test.\n",
    "\n",
    "**Observations from the output:**\n",
    "\n",
    "- There is a `significant difference` in plant growth between: \n",
    "  - F1HighRegular and F2HighRegular (p-adj = 0.0, reject = True)\n",
    "  - F1HighRegular and F2LowSparse (p-adj = 0.0, reject = True)\n",
    "  - F1LowSparse and F2HighRegular (p-adj = 0.0027, reject = True)\n",
    "  - F1LowSparse and F2LowSparse (p-adj = 0.0004, reject = True)\n",
    "  - F2HighRegular and F3HighRegular (p-adj = 0.0, reject = True)\n",
    "  - F2HighRegular and F3LowSparse (p-adj = 0.0001, reject = True)\n",
    "  - F2LowSparse and F3HighRegular (p-adj = 0.0, reject = True)\n",
    "  - F2LowSparse and F3LowSparse (p-adj = 0.0, reject = True)\n",
    "\n",
    "- There are `no significant differences` in plant growth between the other pairs of groups (where reject = False).\n",
    "\n",
    "These results suggest that the type of fertilizer, sunlight condition, and watering condition all have a significant impact on plant growth."
   ]
  },
  {
   "cell_type": "markdown",
   "metadata": {},
   "source": [
    "`These examples provide a basic framework for conducting post hoc analyses in Python. The specific methods and interpretations will depend on your data and the context of your research.`"
   ]
  },
  {
   "cell_type": "markdown",
   "metadata": {},
   "source": [
    "---\n",
    "## **4.4. Bonferri Correction**"
   ]
  },
  {
   "cell_type": "markdown",
   "metadata": {},
   "source": [
    "- The Bonferroni test is a `type of Post Hoc Analysis` used after conducting ANOVA when multiple pairwise comparisons are needed. \n",
    "- It's a conservative method that adjusts the significance level to account for the increased risk of Type I errors (false positives) due to multiple testing. \n",
    "- The Bonferroni correction simply divides the alpha level by the number of comparisons."
   ]
  },
  {
   "cell_type": "code",
   "execution_count": 11,
   "metadata": {},
   "outputs": [
    {
     "name": "stdout",
     "output_type": "stream",
     "text": [
      "F1 vs F2: t-statistic = -4.472, p-value (adjusted) = 0.006\n",
      "F1 vs F3: t-statistic = 0.893, p-value (adjusted) = 1.194\n",
      "F2 vs F3: t-statistic = 5.744, p-value (adjusted) = 0.001\n"
     ]
    }
   ],
   "source": [
    "import scipy.stats as stats\n",
    "import pandas as pd\n",
    "\n",
    "# Sample data\n",
    "fertilizer1 = [20, 22, 19, 24, 25]\n",
    "fertilizer2 = [28, 30, 27, 26, 29]\n",
    "fertilizer3 = [18, 20, 22, 19, 24]\n",
    "\n",
    "# Create DataFrame\n",
    "data = {\n",
    "    'Growth': fertilizer1 + fertilizer2 + fertilizer3,\n",
    "    'Fertilizer': ['F1']*len(fertilizer1) + ['F2']*len(fertilizer2) + ['F3']*len(fertilizer3)\n",
    "}\n",
    "df = pd.DataFrame(data)\n",
    "\n",
    "# Number of comparisons\n",
    "num_comparisons = 3 # For 3 groups, we have 3 pairwise comparisons (F1 vs F2, F1 vs F3, F2 vs F3)\n",
    "\n",
    "# Adjusted alpha level (for significance)\n",
    "alpha = 0.05 / num_comparisons\n",
    "\n",
    "# Conduct pairwise t-tests with Bonferroni correction\n",
    "pairwise_results = []\n",
    "for group1 in df['Fertilizer'].unique():\n",
    "    for group2 in df['Fertilizer'].unique():\n",
    "        if group1 < group2: # To avoid duplicate comparisons\n",
    "            group1_data = df[df['Fertilizer'] == group1]['Growth']\n",
    "            group2_data = df[df['Fertilizer'] == group2]['Growth']\n",
    "            t_stat, p_val = stats.ttest_ind(group1_data, group2_data)\n",
    "            p_val_adjusted = p_val * num_comparisons\n",
    "            pairwise_results.append((f'{group1} vs {group2}', t_stat, p_val_adjusted))\n",
    "\n",
    "# Print results\n",
    "for result in pairwise_results:\n",
    "    group_comparison, t_stat, p_val_adjusted = result\n",
    "    print(f\"{group_comparison}: t-statistic = {t_stat:.3f}, p-value (adjusted) = {p_val_adjusted:.3f}\")"
   ]
  },
  {
   "cell_type": "markdown",
   "metadata": {},
   "source": [
    "The above code is performing `pairwise t-tests` with Bonferroni correction on the growth of plants with `three` different types of fertilizers. Here's a step-by-step explanation:\n",
    "\n",
    "1. `Import the necessary libraries`: scipy.stats and pandas.\n",
    "2. `Define the sample data` for the growth of plants with three types of fertilizers and create a DataFrame.\n",
    "3. Calculate the `number of comparisons` and the adjusted `alpha level` for significance.\n",
    "4. Perform pairwise t-tests with Bonferroni correction. \n",
    "   - For each pair of groups (F1 vs F2, F1 vs F3, F2 vs F3), it calculates the t-statistic and the p-value, adjusts the p-value for multiple comparisons, and stores the results.\n",
    "5. Print the results.\n",
    "\n",
    "**Observations from the output:**\n",
    "\n",
    "- There is a `significant difference` in plant growth between `F1` and `F2` (t-statistic = -4.472, adjusted p-value = 0.006). \n",
    "  - The negative t-statistic indicates that the mean growth for F1 is less than the mean growth for F2.\n",
    "- There is a `significant difference` in plant growth between `F2` and `F3` (t-statistic = 5.744, adjusted p-value = 0.001). \n",
    "  - The positive t-statistic indicates that the mean growth for F2 is greater than the mean growth for F3.\n",
    "- There is `no significant difference` in plant growth between `F1` and `F3 `(t-statistic = 0.893, adjusted p-value = 1.194). \n",
    "  - The adjusted p-value is greater than 0.05, so we fail to reject the null hypothesis of equal means.\n",
    "\n",
    "These results suggest that the type of fertilizer has a significant impact on plant growth. Specifically, F2 appears to promote more growth than F1 and F3."
   ]
  },
  {
   "cell_type": "markdown",
   "metadata": {},
   "source": [
    "### **TIPS**\n",
    "- Each pairwise comparison is adjusted for multiple testing.\n",
    "- A significant result (adjusted p-value < 0.05) indicates a significant difference between those groups.\n",
    "- This method is conservative and reduces the chance of Type I errors but increases the chance of Type II errors (false negatives).\n",
    "### **Notes**\n",
    "- The Bonferroni test is appropriate when you have a small number of comparisons. With a large number of comparisons, it becomes overly conservative.\n",
    "- The method assumes independent tests and may not be suitable for all types of data or comparisons."
   ]
  },
  {
   "cell_type": "markdown",
   "metadata": {},
   "source": [
    "# **Types of PostHoc Tests with their pros and cons.**"
   ]
  },
  {
   "cell_type": "markdown",
   "metadata": {},
   "source": [
    "There are several post hoc tests used in statistics, each with its own strengths and weaknesses. Here's a table summarizing some of the most common tests:\n",
    "\n",
    "| Post Hoc Test        | Pros                                                    | Cons                                                    | Ideal Usage                                           |\n",
    "|----------------------|---------------------------------------------------------|---------------------------------------------------------|-------------------------------------------------------|\n",
    "| **Tukey's HSD**      | - Controls Type I error well<br>- Comparatively robust  | - Can be conservative<br>- Less powerful for unequal sample sizes | When equal sample sizes and normally distributed data are assumed. |\n",
    "| **Bonferroni**       | - Simple to compute<br>- Very conservative              | - Increases Type II errors<br>- Can be too stringent for many comparisons | When few comparisons are made; useful in controlling Type I error in multiple testing. |\n",
    "| **Scheffé's Test**   | - Flexible for any number of comparisons                | - More conservative than others<br>- Can be less powerful | When flexibility in hypothesis testing after ANOVA is needed; good for complex designs. |\n",
    "| **Dunn's Test**      | - Suitable for non-parametric data                      | - Less powerful than parametric tests<br>- Multiple comparison adjustments can be complex | When data do not meet parametric assumptions, particularly with Kruskal-Wallis test. |\n",
    "| **Holm's Method**    | - Less conservative than Bonferroni<br>- Controls Type I error well | - More complex calculation<br>- Can still be conservative | When a balance between Type I error control and power is needed, especially with multiple comparisons. |\n",
    "| **Fisher's LSD**     | - More powerful (higher chance to detect real differences) | - Higher risk of Type I error<br>- Not recommended when there are many comparisons | When comparisons are planned and limited, often used in exploratory data analysis. |\n",
    "| **Ryan-Einot-Gabriel-Welsch Q (REGWQ)** | - Controls the error rate well<br>- Good for unequal sample sizes | - Complex calculation<br>- Can be conservative | When there are unequal sample sizes, and control over Type I error is important. |\n",
    "| **Newman-Keuls**     | - More powerful for detecting differences                | - Higher risk of Type I errors than other methods<br>- Not recommended for many comparisons | When sample sizes are equal and the data are normally distributed; less used due to higher error risks. |\n",
    "\n",
    "### **Notes:**\n",
    "1. **Choice of Test**: The choice of post hoc test largely depends on the nature of your data, the number of comparisons, and the balance you want to strike between the risks of Type I and Type II errors.\n",
    "2. **Data Assumptions**: Some tests assume normally distributed data and equal variances, while others are non-parametric and do not make these assumptions.\n",
    "3. **Type I and II Errors**: There's often a trade-off between the risk of Type I errors (false positives) and Type II errors (false negatives). More conservative tests (like Bonferroni) reduce the risk of Type I errors but increase the risk of Type II errors.\n",
    "\n",
    "When conducting post hoc tests, it's essential to understand these pros and cons to choose the most appropriate test for your specific statistical analysis."
   ]
  },
  {
   "cell_type": "markdown",
   "metadata": {},
   "source": [
    "---"
   ]
  }
 ],
 "metadata": {
  "kernelspec": {
   "display_name": "python_eda",
   "language": "python",
   "name": "python3"
  },
  "language_info": {
   "codemirror_mode": {
    "name": "ipython",
    "version": 3
   },
   "file_extension": ".py",
   "mimetype": "text/x-python",
   "name": "python",
   "nbconvert_exporter": "python",
   "pygments_lexer": "ipython3",
   "version": "3.11.5"
  }
 },
 "nbformat": 4,
 "nbformat_minor": 2
}
